{
 "cells": [
  {
   "cell_type": "code",
   "execution_count": 1,
   "id": "e88528b4",
   "metadata": {},
   "outputs": [],
   "source": [
    "import warnings\n",
    "warnings.simplefilter(action='ignore', category=FutureWarning)\n",
    "import pandas as pd\n",
    "import matplotlib.dates as mdates\n",
    "import matplotlib.pylab as plt\n",
    "import datetime as dt\n",
    "import glob"
   ]
  },
  {
   "cell_type": "code",
   "execution_count": null,
   "id": "c381ad76",
   "metadata": {},
   "outputs": [],
   "source": [
    "# Only considers dives where there was a GPS signal less then 3 mins before (and after?)\n",
    "# the dive\n",
    "\n",
    "# This code works, however I am moving forward with combining multiple csv files.\n",
    "\n",
    "# Group and combine according to the tag number\n",
    "\n",
    "# Need to figure out the GPS signal periods but the dtype is marked with useful\n",
    "# variables:\n",
    "\n",
    "# SEN_ACC_5Hz is dropped (to be used for waves but that's probably useless for now?)\n",
    "\n",
    "# SEND_ALL2_1Hz_START\n",
    "# How about datatypes: GPS, GPSS, GPSD\n",
    "\n",
    "# This code requires the mounted directory: /mnt/UAE_data_.\n",
    "# see README for details\n",
    "\n",
    "\n",
    "# So there will be a GPS signal right before _START and after _END."
   ]
  },
  {
   "cell_type": "code",
   "execution_count": 2,
   "id": "714d20d4",
   "metadata": {},
   "outputs": [],
   "source": [
    "keepdat=[\"device_id\",\"UTC_datetime\",\"UTC_date\",\"UTC_time\",\"datatype\",\"satcount\",\"Latitude\",\"Longitude\",\"depth_m\",\n",
    "         \"conductivity_mS/cm\",\"ext_temperature_C\"]"
   ]
  },
  {
   "cell_type": "code",
   "execution_count": 3,
   "id": "77f2b329",
   "metadata": {},
   "outputs": [],
   "source": [
    "##### show all the columns of the Pandas DataFrame\n",
    "pd.set_option('display.max_columns',None)\n",
    "\n",
    "def pd_read_pattern(pattern):\n",
    "    files = glob.glob(pattern)\n",
    " \n",
    "    dfs = pd.DataFrame()\n",
    "#     print(dfs)\n",
    "    for f in files:\n",
    "        \n",
    "        print (f)\n",
    "        \n",
    "        dfs = dfs.append(pd.read_csv(f,parse_dates=True,index_col='UTC_datetime',\n",
    "                          usecols=keepdat))\n",
    "        \n",
    "        dfs.drop(dfs[dfs['datatype'] == 'SEN_ACC_5Hz'].index, inplace = True)\n",
    "        dfs.drop(dfs[dfs['datatype'] == 'SEN_ACC_5Hz_END'].index, inplace = True)\n",
    "        dfs.drop(dfs[dfs['datatype'] == 'SEN_ACC_5Hz_START'].index, inplace = True)\n",
    "        dfs.drop(dfs[dfs['datatype'] == 'SEN_ACC_5Hz_ENDINT'].index, inplace = True)\n",
    "\n",
    "    return dfs #.reset_index(drop=True)"
   ]
  },
  {
   "cell_type": "code",
   "execution_count": 4,
   "id": "2b1cef9e",
   "metadata": {},
   "outputs": [
    {
     "data": {
      "text/plain": [
       "Index(['ProjectTitle', 'PIEmail', 'DataManagerEmail', 'Project_ID', 'Bird_ID',\n",
       "       'Species_Code', 'Species', 'Capture_Site', 'Capture_Number',\n",
       "       'Capture_Date', 'Capture_Time', 'Release_Date', 'Release_Time',\n",
       "       'Deployment_ID', 'DeploymentStartDatetime', 'UTC_offset_deploy',\n",
       "       'DeploymentLatitude', 'DeploymentLongitude', 'TagManufacture',\n",
       "       'TagModel', 'Sensors', 'TagSerialNumber', 'USGS_Band', 'Aux_Band_Code',\n",
       "       'Aux_Band_Color', 'Tarsus_mm', 'Culmen_mm', 'Wing_Chord_cm',\n",
       "       'Total_Weight_kg', 'Bag_Weight_kg', 'Bird_Weight_kg', 'Sex_Mass',\n",
       "       'Feathers_YN', 'AnimalAgeClass', 'Plumage_BBL', 'Plumage_Notes',\n",
       "       'Notes', 'DeploymentEndDatetime_UTC', 'Deployment_End_Notes',\n",
       "       'Deployment_End_Short', 'DataEmbargoUntilDate', 'Status'],\n",
       "      dtype='object')"
      ]
     },
     "execution_count": 4,
     "metadata": {},
     "output_type": "execute_result"
    }
   ],
   "source": [
    "# get IDs observed in UAEBUS///\n",
    "# idfs = pd.DataFrame()\n",
    "idfile = '/home/server/pi/homes/liux8/work/mnt/Field_Data/DASHCAMS_Deployment_Field_Data.csv';\n",
    "IDS = pd.read_csv(idfile,encoding='latin-1')\n",
    "IDS.drop(IDS[IDS['Project_ID'] != 'UAEBUSO20'].index, inplace = True)\n",
    "IDS.columns\n",
    "# kuae = IDS(strcmp(IDS.Var4,'UAEBUSO20'),:);\n",
    "# idnumber0 = [];\n",
    "# for i = 1:size(kuae.Var14,1)\n",
    "#    idnumber0 = kuae.Var14{i};\n",
    "#    idnum{i} = idnumber0(:,end-5:end);\n",
    "# end\n",
    "# id_total = size(idnum,1);\n",
    "# IDS['Deployment_ID'].shape[0]"
   ]
  },
  {
   "cell_type": "code",
   "execution_count": 6,
   "id": "44069975",
   "metadata": {
    "scrolled": true
   },
   "outputs": [
    {
     "name": "stdout",
     "output_type": "stream",
     "text": [
      "203018\n",
      "/home/server/pi/homes/liux8/work/mnt/UAE_2020/203018_2022_01.csv\n",
      "/home/server/pi/homes/liux8/work/mnt/UAE_2020/203018_2022_02.csv\n",
      "/home/server/pi/homes/liux8/work/mnt/UAE_2020/203018_2022_03.csv\n",
      "/home/server/pi/homes/liux8/work/mnt/UAE_2020/203018_2022_04.csv\n",
      "/home/server/pi/homes/liux8/work/mnt/UAE_2020/203018_2022_05.csv\n",
      "/home/server/pi/homes/liux8/work/mnt/UAE_2020/203018_2022_06.csv\n",
      "/home/server/pi/homes/liux8/work/mnt/UAE_2020/203018_2022_07.csv\n",
      "/home/server/pi/homes/liux8/work/mnt/UAE_2020/203018_2022_08.csv\n",
      "/home/server/pi/homes/liux8/work/mnt/UAE_2020/203018_2022_09.csv\n"
     ]
    },
    {
     "ename": "ValueError",
     "evalue": "Usecols do not match columns, columns expected but not found: ['Longitude', 'conductivity_mS/cm', 'device_id', 'satcount', 'Latitude', 'datatype', 'UTC_time', 'depth_m', 'UTC_datetime', 'ext_temperature_C', 'UTC_date']",
     "output_type": "error",
     "traceback": [
      "\u001b[0;31m---------------------------------------------------------------------------\u001b[0m",
      "\u001b[0;31mValueError\u001b[0m                                Traceback (most recent call last)",
      "Cell \u001b[0;32mIn[6], line 6\u001b[0m\n\u001b[1;32m      4\u001b[0m \u001b[38;5;28mid\u001b[39m \u001b[38;5;241m=\u001b[39m IDS[\u001b[38;5;124m'\u001b[39m\u001b[38;5;124mDeployment_ID\u001b[39m\u001b[38;5;124m'\u001b[39m]\u001b[38;5;241m.\u001b[39mvalues[iid][\u001b[38;5;241m-\u001b[39m\u001b[38;5;241m6\u001b[39m:]\n\u001b[1;32m      5\u001b[0m \u001b[38;5;28mprint\u001b[39m(\u001b[38;5;28mid\u001b[39m)\n\u001b[0;32m----> 6\u001b[0m dfs \u001b[38;5;241m=\u001b[39m dfs\u001b[38;5;241m.\u001b[39mappend(pd_read_pattern(\u001b[38;5;124m'\u001b[39m\u001b[38;5;124m/home/server/pi/homes/liux8/work/mnt/UAE_2020/\u001b[39m\u001b[38;5;124m'\u001b[39m\u001b[38;5;241m+\u001b[39m\u001b[38;5;28mid\u001b[39m\u001b[38;5;241m+\u001b[39m\u001b[38;5;124m'\u001b[39m\u001b[38;5;124m_2022_[0-1][0-9].csv\u001b[39m\u001b[38;5;124m'\u001b[39m))\n\u001b[1;32m      7\u001b[0m \u001b[38;5;28;01mif\u001b[39;00m \u001b[38;5;129;01mnot\u001b[39;00m dfs\u001b[38;5;241m.\u001b[39mempty:\n\u001b[1;32m      8\u001b[0m     dfs\u001b[38;5;241m=\u001b[39mdfs\u001b[38;5;241m.\u001b[39mloc[\u001b[38;5;124m'\u001b[39m\u001b[38;5;124m2022-01-01\u001b[39m\u001b[38;5;124m'\u001b[39m:\u001b[38;5;124m'\u001b[39m\u001b[38;5;124m2022-12-31\u001b[39m\u001b[38;5;124m'\u001b[39m]\n",
      "Cell \u001b[0;32mIn[3], line 13\u001b[0m, in \u001b[0;36mpd_read_pattern\u001b[0;34m(pattern)\u001b[0m\n\u001b[1;32m      9\u001b[0m \u001b[38;5;28;01mfor\u001b[39;00m f \u001b[38;5;129;01min\u001b[39;00m files:\n\u001b[1;32m     11\u001b[0m     \u001b[38;5;28mprint\u001b[39m (f)\n\u001b[0;32m---> 13\u001b[0m     dfs \u001b[38;5;241m=\u001b[39m dfs\u001b[38;5;241m.\u001b[39mappend(pd\u001b[38;5;241m.\u001b[39mread_csv(f,parse_dates\u001b[38;5;241m=\u001b[39m\u001b[38;5;28;01mTrue\u001b[39;00m,index_col\u001b[38;5;241m=\u001b[39m\u001b[38;5;124m'\u001b[39m\u001b[38;5;124mUTC_datetime\u001b[39m\u001b[38;5;124m'\u001b[39m,\n\u001b[1;32m     14\u001b[0m                       usecols\u001b[38;5;241m=\u001b[39mkeepdat))\n\u001b[1;32m     16\u001b[0m     dfs\u001b[38;5;241m.\u001b[39mdrop(dfs[dfs[\u001b[38;5;124m'\u001b[39m\u001b[38;5;124mdatatype\u001b[39m\u001b[38;5;124m'\u001b[39m] \u001b[38;5;241m==\u001b[39m \u001b[38;5;124m'\u001b[39m\u001b[38;5;124mSEN_ACC_5Hz\u001b[39m\u001b[38;5;124m'\u001b[39m]\u001b[38;5;241m.\u001b[39mindex, inplace \u001b[38;5;241m=\u001b[39m \u001b[38;5;28;01mTrue\u001b[39;00m)\n\u001b[1;32m     17\u001b[0m     dfs\u001b[38;5;241m.\u001b[39mdrop(dfs[dfs[\u001b[38;5;124m'\u001b[39m\u001b[38;5;124mdatatype\u001b[39m\u001b[38;5;124m'\u001b[39m] \u001b[38;5;241m==\u001b[39m \u001b[38;5;124m'\u001b[39m\u001b[38;5;124mSEN_ACC_5Hz_END\u001b[39m\u001b[38;5;124m'\u001b[39m]\u001b[38;5;241m.\u001b[39mindex, inplace \u001b[38;5;241m=\u001b[39m \u001b[38;5;28;01mTrue\u001b[39;00m)\n",
      "File \u001b[0;32m~/.conda/envs/dev_scipy/lib/python3.11/site-packages/pandas/util/_decorators.py:211\u001b[0m, in \u001b[0;36mdeprecate_kwarg.<locals>._deprecate_kwarg.<locals>.wrapper\u001b[0;34m(*args, **kwargs)\u001b[0m\n\u001b[1;32m    209\u001b[0m     \u001b[38;5;28;01melse\u001b[39;00m:\n\u001b[1;32m    210\u001b[0m         kwargs[new_arg_name] \u001b[38;5;241m=\u001b[39m new_arg_value\n\u001b[0;32m--> 211\u001b[0m \u001b[38;5;28;01mreturn\u001b[39;00m func(\u001b[38;5;241m*\u001b[39margs, \u001b[38;5;241m*\u001b[39m\u001b[38;5;241m*\u001b[39mkwargs)\n",
      "File \u001b[0;32m~/.conda/envs/dev_scipy/lib/python3.11/site-packages/pandas/util/_decorators.py:331\u001b[0m, in \u001b[0;36mdeprecate_nonkeyword_arguments.<locals>.decorate.<locals>.wrapper\u001b[0;34m(*args, **kwargs)\u001b[0m\n\u001b[1;32m    325\u001b[0m \u001b[38;5;28;01mif\u001b[39;00m \u001b[38;5;28mlen\u001b[39m(args) \u001b[38;5;241m>\u001b[39m num_allow_args:\n\u001b[1;32m    326\u001b[0m     warnings\u001b[38;5;241m.\u001b[39mwarn(\n\u001b[1;32m    327\u001b[0m         msg\u001b[38;5;241m.\u001b[39mformat(arguments\u001b[38;5;241m=\u001b[39m_format_argument_list(allow_args)),\n\u001b[1;32m    328\u001b[0m         \u001b[38;5;167;01mFutureWarning\u001b[39;00m,\n\u001b[1;32m    329\u001b[0m         stacklevel\u001b[38;5;241m=\u001b[39mfind_stack_level(),\n\u001b[1;32m    330\u001b[0m     )\n\u001b[0;32m--> 331\u001b[0m \u001b[38;5;28;01mreturn\u001b[39;00m func(\u001b[38;5;241m*\u001b[39margs, \u001b[38;5;241m*\u001b[39m\u001b[38;5;241m*\u001b[39mkwargs)\n",
      "File \u001b[0;32m~/.conda/envs/dev_scipy/lib/python3.11/site-packages/pandas/io/parsers/readers.py:950\u001b[0m, in \u001b[0;36mread_csv\u001b[0;34m(filepath_or_buffer, sep, delimiter, header, names, index_col, usecols, squeeze, prefix, mangle_dupe_cols, dtype, engine, converters, true_values, false_values, skipinitialspace, skiprows, skipfooter, nrows, na_values, keep_default_na, na_filter, verbose, skip_blank_lines, parse_dates, infer_datetime_format, keep_date_col, date_parser, dayfirst, cache_dates, iterator, chunksize, compression, thousands, decimal, lineterminator, quotechar, quoting, doublequote, escapechar, comment, encoding, encoding_errors, dialect, error_bad_lines, warn_bad_lines, on_bad_lines, delim_whitespace, low_memory, memory_map, float_precision, storage_options)\u001b[0m\n\u001b[1;32m    935\u001b[0m kwds_defaults \u001b[38;5;241m=\u001b[39m _refine_defaults_read(\n\u001b[1;32m    936\u001b[0m     dialect,\n\u001b[1;32m    937\u001b[0m     delimiter,\n\u001b[0;32m   (...)\u001b[0m\n\u001b[1;32m    946\u001b[0m     defaults\u001b[38;5;241m=\u001b[39m{\u001b[38;5;124m\"\u001b[39m\u001b[38;5;124mdelimiter\u001b[39m\u001b[38;5;124m\"\u001b[39m: \u001b[38;5;124m\"\u001b[39m\u001b[38;5;124m,\u001b[39m\u001b[38;5;124m\"\u001b[39m},\n\u001b[1;32m    947\u001b[0m )\n\u001b[1;32m    948\u001b[0m kwds\u001b[38;5;241m.\u001b[39mupdate(kwds_defaults)\n\u001b[0;32m--> 950\u001b[0m \u001b[38;5;28;01mreturn\u001b[39;00m _read(filepath_or_buffer, kwds)\n",
      "File \u001b[0;32m~/.conda/envs/dev_scipy/lib/python3.11/site-packages/pandas/io/parsers/readers.py:605\u001b[0m, in \u001b[0;36m_read\u001b[0;34m(filepath_or_buffer, kwds)\u001b[0m\n\u001b[1;32m    602\u001b[0m _validate_names(kwds\u001b[38;5;241m.\u001b[39mget(\u001b[38;5;124m\"\u001b[39m\u001b[38;5;124mnames\u001b[39m\u001b[38;5;124m\"\u001b[39m, \u001b[38;5;28;01mNone\u001b[39;00m))\n\u001b[1;32m    604\u001b[0m \u001b[38;5;66;03m# Create the parser.\u001b[39;00m\n\u001b[0;32m--> 605\u001b[0m parser \u001b[38;5;241m=\u001b[39m TextFileReader(filepath_or_buffer, \u001b[38;5;241m*\u001b[39m\u001b[38;5;241m*\u001b[39mkwds)\n\u001b[1;32m    607\u001b[0m \u001b[38;5;28;01mif\u001b[39;00m chunksize \u001b[38;5;129;01mor\u001b[39;00m iterator:\n\u001b[1;32m    608\u001b[0m     \u001b[38;5;28;01mreturn\u001b[39;00m parser\n",
      "File \u001b[0;32m~/.conda/envs/dev_scipy/lib/python3.11/site-packages/pandas/io/parsers/readers.py:1442\u001b[0m, in \u001b[0;36mTextFileReader.__init__\u001b[0;34m(self, f, engine, **kwds)\u001b[0m\n\u001b[1;32m   1439\u001b[0m     \u001b[38;5;28mself\u001b[39m\u001b[38;5;241m.\u001b[39moptions[\u001b[38;5;124m\"\u001b[39m\u001b[38;5;124mhas_index_names\u001b[39m\u001b[38;5;124m\"\u001b[39m] \u001b[38;5;241m=\u001b[39m kwds[\u001b[38;5;124m\"\u001b[39m\u001b[38;5;124mhas_index_names\u001b[39m\u001b[38;5;124m\"\u001b[39m]\n\u001b[1;32m   1441\u001b[0m \u001b[38;5;28mself\u001b[39m\u001b[38;5;241m.\u001b[39mhandles: IOHandles \u001b[38;5;241m|\u001b[39m \u001b[38;5;28;01mNone\u001b[39;00m \u001b[38;5;241m=\u001b[39m \u001b[38;5;28;01mNone\u001b[39;00m\n\u001b[0;32m-> 1442\u001b[0m \u001b[38;5;28mself\u001b[39m\u001b[38;5;241m.\u001b[39m_engine \u001b[38;5;241m=\u001b[39m \u001b[38;5;28mself\u001b[39m\u001b[38;5;241m.\u001b[39m_make_engine(f, \u001b[38;5;28mself\u001b[39m\u001b[38;5;241m.\u001b[39mengine)\n",
      "File \u001b[0;32m~/.conda/envs/dev_scipy/lib/python3.11/site-packages/pandas/io/parsers/readers.py:1753\u001b[0m, in \u001b[0;36mTextFileReader._make_engine\u001b[0;34m(self, f, engine)\u001b[0m\n\u001b[1;32m   1750\u001b[0m     \u001b[38;5;28;01mraise\u001b[39;00m \u001b[38;5;167;01mValueError\u001b[39;00m(msg)\n\u001b[1;32m   1752\u001b[0m \u001b[38;5;28;01mtry\u001b[39;00m:\n\u001b[0;32m-> 1753\u001b[0m     \u001b[38;5;28;01mreturn\u001b[39;00m mapping[engine](f, \u001b[38;5;241m*\u001b[39m\u001b[38;5;241m*\u001b[39m\u001b[38;5;28mself\u001b[39m\u001b[38;5;241m.\u001b[39moptions)\n\u001b[1;32m   1754\u001b[0m \u001b[38;5;28;01mexcept\u001b[39;00m \u001b[38;5;167;01mException\u001b[39;00m:\n\u001b[1;32m   1755\u001b[0m     \u001b[38;5;28;01mif\u001b[39;00m \u001b[38;5;28mself\u001b[39m\u001b[38;5;241m.\u001b[39mhandles \u001b[38;5;129;01mis\u001b[39;00m \u001b[38;5;129;01mnot\u001b[39;00m \u001b[38;5;28;01mNone\u001b[39;00m:\n",
      "File \u001b[0;32m~/.conda/envs/dev_scipy/lib/python3.11/site-packages/pandas/io/parsers/c_parser_wrapper.py:135\u001b[0m, in \u001b[0;36mCParserWrapper.__init__\u001b[0;34m(self, src, **kwds)\u001b[0m\n\u001b[1;32m    131\u001b[0m \u001b[38;5;28;01massert\u001b[39;00m \u001b[38;5;28mself\u001b[39m\u001b[38;5;241m.\u001b[39morig_names \u001b[38;5;129;01mis\u001b[39;00m \u001b[38;5;129;01mnot\u001b[39;00m \u001b[38;5;28;01mNone\u001b[39;00m\n\u001b[1;32m    132\u001b[0m \u001b[38;5;28;01mif\u001b[39;00m \u001b[38;5;28mself\u001b[39m\u001b[38;5;241m.\u001b[39musecols_dtype \u001b[38;5;241m==\u001b[39m \u001b[38;5;124m\"\u001b[39m\u001b[38;5;124mstring\u001b[39m\u001b[38;5;124m\"\u001b[39m \u001b[38;5;129;01mand\u001b[39;00m \u001b[38;5;129;01mnot\u001b[39;00m \u001b[38;5;28mset\u001b[39m(usecols)\u001b[38;5;241m.\u001b[39missubset(\n\u001b[1;32m    133\u001b[0m     \u001b[38;5;28mself\u001b[39m\u001b[38;5;241m.\u001b[39morig_names\n\u001b[1;32m    134\u001b[0m ):\n\u001b[0;32m--> 135\u001b[0m     \u001b[38;5;28mself\u001b[39m\u001b[38;5;241m.\u001b[39m_validate_usecols_names(usecols, \u001b[38;5;28mself\u001b[39m\u001b[38;5;241m.\u001b[39morig_names)\n\u001b[1;32m    137\u001b[0m \u001b[38;5;66;03m# error: Cannot determine type of 'names'\u001b[39;00m\n\u001b[1;32m    138\u001b[0m \u001b[38;5;28;01mif\u001b[39;00m \u001b[38;5;28mlen\u001b[39m(\u001b[38;5;28mself\u001b[39m\u001b[38;5;241m.\u001b[39mnames) \u001b[38;5;241m>\u001b[39m \u001b[38;5;28mlen\u001b[39m(usecols):  \u001b[38;5;66;03m# type: ignore[has-type]\u001b[39;00m\n\u001b[1;32m    139\u001b[0m     \u001b[38;5;66;03m# error: Cannot determine type of 'names'\u001b[39;00m\n",
      "File \u001b[0;32m~/.conda/envs/dev_scipy/lib/python3.11/site-packages/pandas/io/parsers/base_parser.py:917\u001b[0m, in \u001b[0;36mParserBase._validate_usecols_names\u001b[0;34m(self, usecols, names)\u001b[0m\n\u001b[1;32m    915\u001b[0m missing \u001b[38;5;241m=\u001b[39m [c \u001b[38;5;28;01mfor\u001b[39;00m c \u001b[38;5;129;01min\u001b[39;00m usecols \u001b[38;5;28;01mif\u001b[39;00m c \u001b[38;5;129;01mnot\u001b[39;00m \u001b[38;5;129;01min\u001b[39;00m names]\n\u001b[1;32m    916\u001b[0m \u001b[38;5;28;01mif\u001b[39;00m \u001b[38;5;28mlen\u001b[39m(missing) \u001b[38;5;241m>\u001b[39m \u001b[38;5;241m0\u001b[39m:\n\u001b[0;32m--> 917\u001b[0m     \u001b[38;5;28;01mraise\u001b[39;00m \u001b[38;5;167;01mValueError\u001b[39;00m(\n\u001b[1;32m    918\u001b[0m         \u001b[38;5;124mf\u001b[39m\u001b[38;5;124m\"\u001b[39m\u001b[38;5;124mUsecols do not match columns, columns expected but not found: \u001b[39m\u001b[38;5;124m\"\u001b[39m\n\u001b[1;32m    919\u001b[0m         \u001b[38;5;124mf\u001b[39m\u001b[38;5;124m\"\u001b[39m\u001b[38;5;132;01m{\u001b[39;00mmissing\u001b[38;5;132;01m}\u001b[39;00m\u001b[38;5;124m\"\u001b[39m\n\u001b[1;32m    920\u001b[0m     )\n\u001b[1;32m    922\u001b[0m \u001b[38;5;28;01mreturn\u001b[39;00m usecols\n",
      "\u001b[0;31mValueError\u001b[0m: Usecols do not match columns, columns expected but not found: ['Longitude', 'conductivity_mS/cm', 'device_id', 'satcount', 'Latitude', 'datatype', 'UTC_time', 'depth_m', 'UTC_datetime', 'ext_temperature_C', 'UTC_date']"
     ]
    }
   ],
   "source": [
    "dfs = pd.DataFrame()\n",
    "for iid in range(IDS['Deployment_ID'].shape[0]):\n",
    "# for iid in range(1):\n",
    "    id = IDS['Deployment_ID'].values[iid][-6:]\n",
    "    print(id)\n",
    "    dfs = dfs.append(pd_read_pattern('/home/server/pi/homes/liux8/work/mnt/UAE_2020/'+id+'_2022_[0-1][0-9].csv'))\n",
    "    if not dfs.empty:\n",
    "        dfs=dfs.loc['2022-01-01':'2022-12-31']\n",
    "\n",
    "        dfs['date']=pd.to_datetime(dfs['UTC_date']+dfs['UTC_time'], format='%Y-%m-%d%H:%M:%S')\n",
    "\n",
    "        threshold = pd.Timedelta(minutes=3)\n",
    "    print(dfs['device_id'][0:5])"
   ]
  },
  {
   "cell_type": "code",
   "execution_count": 4,
   "id": "7edc0280",
   "metadata": {},
   "outputs": [
    {
     "name": "stdout",
     "output_type": "stream",
     "text": [
      "/home/server/pi/homes/liux8/work/mnt/UAE_2020/201410_2021_01.csv\n",
      "/home/server/pi/homes/liux8/work/mnt/UAE_2020/201410_2021_02.csv\n",
      "/home/server/pi/homes/liux8/work/mnt/UAE_2020/201410_2021_03.csv\n",
      "/home/server/pi/homes/liux8/work/mnt/UAE_2020/201411_2021_01.csv\n",
      "/home/server/pi/homes/liux8/work/mnt/UAE_2020/201411_2021_02.csv\n",
      "/home/server/pi/homes/liux8/work/mnt/UAE_2020/201411_2021_03.csv\n",
      "/home/server/pi/homes/liux8/work/mnt/UAE_2020/201411_2021_04.csv\n",
      "/home/server/pi/homes/liux8/work/mnt/UAE_2020/201411_2021_05.csv\n",
      "/home/server/pi/homes/liux8/work/mnt/UAE_2020/201411_2021_06.csv\n",
      "/home/server/pi/homes/liux8/work/mnt/UAE_2020/201411_2021_07.csv\n",
      "/home/server/pi/homes/liux8/work/mnt/UAE_2020/201411_2021_08.csv\n",
      "/home/server/pi/homes/liux8/work/mnt/UAE_2020/201418_2021_01.csv\n",
      "/home/server/pi/homes/liux8/work/mnt/UAE_2020/201418_2021_02.csv\n",
      "/home/server/pi/homes/liux8/work/mnt/UAE_2020/201418_2021_03.csv\n",
      "/home/server/pi/homes/liux8/work/mnt/UAE_2020/201418_2021_04.csv\n",
      "/home/server/pi/homes/liux8/work/mnt/UAE_2020/201418_2021_05.csv\n",
      "/home/server/pi/homes/liux8/work/mnt/UAE_2020/201418_2021_06.csv\n",
      "/home/server/pi/homes/liux8/work/mnt/UAE_2020/201418_2021_07.csv\n",
      "/home/server/pi/homes/liux8/work/mnt/UAE_2020/201418_2021_08.csv\n",
      "/home/server/pi/homes/liux8/work/mnt/UAE_2020/201418_2021_09.csv\n",
      "/home/server/pi/homes/liux8/work/mnt/UAE_2020/201418_2021_11.csv\n",
      "/home/server/pi/homes/liux8/work/mnt/UAE_2020/201420_2021_01.csv\n",
      "/home/server/pi/homes/liux8/work/mnt/UAE_2020/201420_2021_02.csv\n",
      "/home/server/pi/homes/liux8/work/mnt/UAE_2020/201420_2021_03.csv\n",
      "/home/server/pi/homes/liux8/work/mnt/UAE_2020/203013_2021_01.csv\n",
      "/home/server/pi/homes/liux8/work/mnt/UAE_2020/203013_2021_02.csv\n",
      "/home/server/pi/homes/liux8/work/mnt/UAE_2020/203013_2021_03.csv\n",
      "/home/server/pi/homes/liux8/work/mnt/UAE_2020/203013_2021_04.csv\n",
      "/home/server/pi/homes/liux8/work/mnt/UAE_2020/203013_2021_05.csv\n",
      "/home/server/pi/homes/liux8/work/mnt/UAE_2020/203013_2021_06.csv\n",
      "/home/server/pi/homes/liux8/work/mnt/UAE_2020/203013_2021_07.csv\n",
      "/home/server/pi/homes/liux8/work/mnt/UAE_2020/203013_2021_08.csv\n",
      "/home/server/pi/homes/liux8/work/mnt/UAE_2020/203013_2021_09.csv\n",
      "/home/server/pi/homes/liux8/work/mnt/UAE_2020/203014_2021_01.csv\n",
      "/home/server/pi/homes/liux8/work/mnt/UAE_2020/203014_2021_02.csv\n",
      "/home/server/pi/homes/liux8/work/mnt/UAE_2020/203014_2021_03.csv\n",
      "/home/server/pi/homes/liux8/work/mnt/UAE_2020/203018_2021_01.csv\n",
      "/home/server/pi/homes/liux8/work/mnt/UAE_2020/203018_2021_02.csv\n",
      "/home/server/pi/homes/liux8/work/mnt/UAE_2020/203018_2021_03.csv\n",
      "/home/server/pi/homes/liux8/work/mnt/UAE_2020/203018_2021_04.csv\n",
      "/home/server/pi/homes/liux8/work/mnt/UAE_2020/203018_2021_05.csv\n",
      "/home/server/pi/homes/liux8/work/mnt/UAE_2020/203018_2021_06.csv\n",
      "/home/server/pi/homes/liux8/work/mnt/UAE_2020/203018_2021_07.csv\n",
      "/home/server/pi/homes/liux8/work/mnt/UAE_2020/203018_2021_08.csv\n",
      "/home/server/pi/homes/liux8/work/mnt/UAE_2020/203018_2021_09.csv\n",
      "/home/server/pi/homes/liux8/work/mnt/UAE_2020/203018_2021_11.csv\n",
      "/home/server/pi/homes/liux8/work/mnt/UAE_2020/203018_2021_12.csv\n",
      "/home/server/pi/homes/liux8/work/mnt/UAE_2020/203027_2021_01.csv\n",
      "/home/server/pi/homes/liux8/work/mnt/UAE_2020/203027_2021_02.csv\n",
      "/home/server/pi/homes/liux8/work/mnt/UAE_2020/203027_2021_03.csv\n",
      "/home/server/pi/homes/liux8/work/mnt/UAE_2020/203027_2021_04.csv\n",
      "/home/server/pi/homes/liux8/work/mnt/UAE_2020/203027_2021_05.csv\n",
      "/home/server/pi/homes/liux8/work/mnt/UAE_2020/203027_2021_06.csv\n",
      "/home/server/pi/homes/liux8/work/mnt/UAE_2020/203027_2021_07.csv\n",
      "/home/server/pi/homes/liux8/work/mnt/UAE_2020/203027_2021_08.csv\n",
      "/home/server/pi/homes/liux8/work/mnt/UAE_2020/203027_2021_09.csv\n",
      "/home/server/pi/homes/liux8/work/mnt/UAE_2020/203029_2021_01.csv\n",
      "/home/server/pi/homes/liux8/work/mnt/UAE_2020/203029_2021_02.csv\n",
      "/home/server/pi/homes/liux8/work/mnt/UAE_2020/203029_2021_03.csv\n",
      "/home/server/pi/homes/liux8/work/mnt/UAE_2020/203029_2021_04.csv\n",
      "/home/server/pi/homes/liux8/work/mnt/UAE_2020/203034_2021_01.csv\n",
      "/home/server/pi/homes/liux8/work/mnt/UAE_2020/203034_2021_02.csv\n",
      "/home/server/pi/homes/liux8/work/mnt/UAE_2020/203034_2021_03.csv\n",
      "/home/server/pi/homes/liux8/work/mnt/UAE_2020/203034_2021_04.csv\n",
      "/home/server/pi/homes/liux8/work/mnt/UAE_2020/203034_2021_05.csv\n",
      "/home/server/pi/homes/liux8/work/mnt/UAE_2020/203034_2021_06.csv\n",
      "/home/server/pi/homes/liux8/work/mnt/UAE_2020/203040_2021_01.csv\n",
      "/home/server/pi/homes/liux8/work/mnt/UAE_2020/203040_2021_02.csv\n",
      "/home/server/pi/homes/liux8/work/mnt/UAE_2020/203040_2021_03.csv\n",
      "/home/server/pi/homes/liux8/work/mnt/UAE_2020/203040_2021_04.csv\n",
      "/home/server/pi/homes/liux8/work/mnt/UAE_2020/203040_2021_05.csv\n",
      "/home/server/pi/homes/liux8/work/mnt/UAE_2020/203040_2021_06.csv\n"
     ]
    }
   ],
   "source": [
    "dfs = pd_read_pattern('/home/server/pi/homes/liux8/work/mnt/UAE_2020/*_2021_[0-1][1-9].csv')\n",
    "\n",
    "dfs=dfs.loc['2021-01-01':'2021-12-31']\n",
    "\n",
    "dfs['date']=pd.to_datetime(dfs['UTC_date']+dfs['UTC_time'], format='%Y-%m-%d%H:%M:%S')\n",
    "\n",
    "threshold = pd.Timedelta(minutes=3)"
   ]
  },
  {
   "cell_type": "code",
   "execution_count": 96,
   "id": "39591a1a",
   "metadata": {},
   "outputs": [],
   "source": [
    "dfs.to_csv('surf_processed/All_2021_3min_raw_before_adjust.csv')"
   ]
  },
  {
   "cell_type": "code",
   "execution_count": 5,
   "id": "f697059f",
   "metadata": {},
   "outputs": [],
   "source": [
    "dfs['mask'] = dfs['date'].diff().abs().le(threshold)\n",
    "dfs['Latitude_1']=dfs['Latitude'].shift(periods =-1 ,  fill_value='0')\n",
    "dfs['Longitude_1']=dfs['Longitude'].shift(periods =-1 ,  fill_value='0')\n",
    "dfs['mask_1']=dfs['mask'].shift(periods =-1 ,  fill_value='0')\n",
    "\n",
    "dfs=dfs[dfs['datatype'] =='SEND_ALL2_1Hz_END']\n",
    "dfs=dfs[dfs['mask_1'] == 1]\n",
    "# dfs.to_csv('surf_processed/All_2021_3min_with_id.csv')\n",
    "dfs.to_csv('surf_processed/All_2021_3min_with_id_older.csv')"
   ]
  }
 ],
 "metadata": {
  "kernelspec": {
   "display_name": "Python 3 (ipykernel)",
   "language": "python",
   "name": "python3"
  },
  "language_info": {
   "codemirror_mode": {
    "name": "ipython",
    "version": 3
   },
   "file_extension": ".py",
   "mimetype": "text/x-python",
   "name": "python",
   "nbconvert_exporter": "python",
   "pygments_lexer": "ipython3",
   "version": "3.11.5"
  }
 },
 "nbformat": 4,
 "nbformat_minor": 5
}
